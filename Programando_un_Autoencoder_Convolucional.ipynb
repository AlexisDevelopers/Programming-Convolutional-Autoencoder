{
  "cells": [
    {
      "cell_type": "markdown",
      "metadata": {
        "id": "nPVq0ql7J5y6"
      },
      "source": [
        "# Programando un Autoencoder Convolucional\n",
        "\n",
        "\n",
        "<center><img src=\"https://www.researchgate.net/profile/Xifeng_Guo/publication/320658590/figure/fig1/AS:614154637418504@15234372844108/The-structure-of-proposed-Convolutional-AutoEncoders-CAE-for-MNIST-In-the-middle-there.png\" alt=\"Drawing\" width=\"600px\"/></center>\n"
      ]
    },
    {
      "cell_type": "code",
      "execution_count": null,
      "metadata": {
        "id": "85g9bd2oP03u"
      },
      "outputs": [],
      "source": [
        "import numpy as np\n",
        "import scipy as sc\n",
        "import sklearn as sk\n",
        "import pandas as pd\n",
        "import seaborn as sb\n",
        "import matplotlib.pyplot as plt\n",
        "\n",
        "from sklearn.model_selection import train_test_split\n",
        "from sklearn.preprocessing import OneHotEncoder\n",
        "from tensorflow.keras.utils      import to_categorical"
      ]
    },
    {
      "cell_type": "code",
      "execution_count": null,
      "metadata": {
        "id": "OuUvP_gpjwhm"
      },
      "outputs": [],
      "source": [
        "# Load the MNIST dataset.\n",
        "mnist = np.genfromtxt('./sample_data/mnist_train_small.csv', delimiter=',')\n",
        "\n",
        "# Separate the labels from the images\n",
        "X = mnist[:, 1:]\n",
        "Y = mnist[:, 0:1]\n",
        "\n",
        "# # Scale the data and One-Hot Encode the output.\n",
        "Xn = X / 255\n",
        "Yn = to_categorical(Y)\n",
        "\n",
        "# Use Sklearn's data splitter for train/test\n",
        "from sklearn.model_selection import train_test_split\n",
        "\n",
        "# Train/test split partition to supervise overfitting.\n",
        "X_train, X_test, Y_train, Y_test = train_test_split(Xn, Yn, test_size=0.3)"
      ]
    },
    {
      "cell_type": "code",
      "execution_count": null,
      "metadata": {
        "colab": {
          "base_uri": "https://localhost:8080/"
        },
        "id": "6H8YBPxJPfdO",
        "outputId": "e99b3a3f-9c59-4132-de18-9b9cf3792d8a"
      },
      "outputs": [
        {
          "output_type": "execute_result",
          "data": {
            "text/plain": [
              "(784,)"
            ]
          },
          "metadata": {},
          "execution_count": 3
        }
      ],
      "source": [
        "X_train[0].shape"
      ]
    },
    {
      "cell_type": "code",
      "source": [
        "from tensorflow.keras.layers import *\n",
        "from tensorflow.keras import *\n",
        "from tensorflow.keras.optimizers import *\n",
        "\n",
        "size = 28 # Image size.\n",
        "\n",
        "z = 10 # Size of the autoencoder's intermediate vector.\n",
        "\n",
        "# First we create the input for the encoder.\n",
        "inpE = Input(shape=(size, size, 1))  \n",
        "\n",
        "# Convolutional layers.\n",
        "encode_1 = Conv2D(filters=32, kernel_size=3, padding=\"same\", strides=2, activation='relu')(inpE)\n",
        "print(\"Conv1\", encode_1.shape)       \n",
        "encode_2 = Conv2D(filters=64, kernel_size=3, padding=\"same\", strides=2, activation='relu')(encode_1)  \n",
        "print(\"Conv2\", encode_2.shape)                            \n",
        "encode_3 = Conv2D(filters=128, kernel_size=3, strides=2, activation='relu')(encode_2)   \n",
        "print(\"Conv3\", encode_3.shape)                              \n",
        "encode_4 = Flatten()(encode_3) \n",
        "print(\"Flatten\", encode_4.shape)"
      ],
      "metadata": {
        "colab": {
          "base_uri": "https://localhost:8080/"
        },
        "id": "ODXT1G-0LG3w",
        "outputId": "61c89e00-37c9-43ba-aeaf-45bbce6620fe"
      },
      "execution_count": null,
      "outputs": [
        {
          "output_type": "stream",
          "name": "stdout",
          "text": [
            "Conv1 (None, 14, 14, 32)\n",
            "Conv2 (None, 7, 7, 64)\n",
            "Conv3 (None, 3, 3, 128)\n",
            "Flatten (None, 1152)\n"
          ]
        }
      ]
    },
    {
      "cell_type": "code",
      "execution_count": null,
      "metadata": {
        "id": "Lyu4Jam0P9EO",
        "colab": {
          "base_uri": "https://localhost:8080/"
        },
        "outputId": "91544d91-c2bd-453d-d24e-a742620b4152"
      },
      "outputs": [
        {
          "output_type": "stream",
          "name": "stdout",
          "text": [
            "DeConv3 (None, 7, 7, 64)\n",
            "DeConv2 (None, 14, 14, 32)\n",
            "DeConv1 (None, 28, 28, 1)\n"
          ]
        }
      ],
      "source": [
        "# The last layer of the encoder gives us the latent vector.\n",
        "c = Dense(z, activation=\"tanh\")(encode_4) \n",
        "\n",
        "# Create the input for the decoder\n",
        "inpD = Input(shape=(z))\n",
        "\n",
        "# Reshape\n",
        "FC = Dense(1152, activation=\"relu\")(inpD)\n",
        "decode = Reshape(target_shape=(3, 3, 128))(FC)\n",
        "\n",
        "# Reverse the encoder steps.\n",
        "decode_1 = Conv2DTranspose(filters=64, kernel_size=3,strides=2, activation='relu')(decode)\n",
        "print(\"DeConv3\", decode_1.shape)\n",
        "decode_2 = Conv2DTranspose(filters=32, kernel_size=3, padding=\"same\", strides=2, activation='relu')(decode_1)\n",
        "print(\"DeConv2\", decode_2.shape)\n",
        "decode_3 = Conv2DTranspose(filters=1, kernel_size=3, padding=\"same\", strides=2, activation='relu')(decode_2)\n",
        "print(\"DeConv1\", decode_3.shape)"
      ]
    },
    {
      "cell_type": "code",
      "source": [
        "# Create the encoder and decoder models\n",
        "encoder = Model(inputs=inpE, outputs=c)\n",
        "decoder = Model(inputs=inpD, outputs=decode_3)\n",
        "\n",
        "# Create the Autoencoder\n",
        "autoencoder = Sequential()\n",
        "autoencoder.add(encoder)\n",
        "autoencoder.add(decoder)\n",
        "\n",
        "# Compile and optimize.\n",
        "autoencoder.compile(optimizer=Adam(), loss='mse')"
      ],
      "metadata": {
        "id": "lbhpxee-SGym"
      },
      "execution_count": null,
      "outputs": []
    },
    {
      "cell_type": "code",
      "source": [
        "autoencoder.fit(X_train.reshape(-1, size, size, 1), X_train.reshape(-1, size, size, 1), epochs=30, batch_size=128)"
      ],
      "metadata": {
        "colab": {
          "base_uri": "https://localhost:8080/"
        },
        "id": "20cW4Gh29Ki4",
        "outputId": "981aad0b-817c-4d36-9ce0-c100e47b84cc"
      },
      "execution_count": null,
      "outputs": [
        {
          "output_type": "stream",
          "name": "stdout",
          "text": [
            "Epoch 1/30\n",
            "110/110 [==============================] - 6s 8ms/step - loss: 0.0646\n",
            "Epoch 2/30\n",
            "110/110 [==============================] - 1s 7ms/step - loss: 0.0326\n",
            "Epoch 3/30\n",
            "110/110 [==============================] - 1s 7ms/step - loss: 0.0243\n",
            "Epoch 4/30\n",
            "110/110 [==============================] - 1s 7ms/step - loss: 0.0209\n",
            "Epoch 5/30\n",
            "110/110 [==============================] - 1s 7ms/step - loss: 0.0193\n",
            "Epoch 6/30\n",
            "110/110 [==============================] - 1s 7ms/step - loss: 0.0182\n",
            "Epoch 7/30\n",
            "110/110 [==============================] - 1s 7ms/step - loss: 0.0174\n",
            "Epoch 8/30\n",
            "110/110 [==============================] - 1s 7ms/step - loss: 0.0167\n",
            "Epoch 9/30\n",
            "110/110 [==============================] - 1s 7ms/step - loss: 0.0162\n",
            "Epoch 10/30\n",
            "110/110 [==============================] - 1s 7ms/step - loss: 0.0158\n",
            "Epoch 11/30\n",
            "110/110 [==============================] - 1s 7ms/step - loss: 0.0154\n",
            "Epoch 12/30\n",
            "110/110 [==============================] - 1s 7ms/step - loss: 0.0151\n",
            "Epoch 13/30\n",
            "110/110 [==============================] - 1s 9ms/step - loss: 0.0147\n",
            "Epoch 14/30\n",
            "110/110 [==============================] - 1s 9ms/step - loss: 0.0144\n",
            "Epoch 15/30\n",
            "110/110 [==============================] - 1s 7ms/step - loss: 0.0142\n",
            "Epoch 16/30\n",
            "110/110 [==============================] - 1s 6ms/step - loss: 0.0139\n",
            "Epoch 17/30\n",
            "110/110 [==============================] - 1s 7ms/step - loss: 0.0138\n",
            "Epoch 18/30\n",
            "110/110 [==============================] - 1s 7ms/step - loss: 0.0136\n",
            "Epoch 19/30\n",
            "110/110 [==============================] - 1s 7ms/step - loss: 0.0134\n",
            "Epoch 20/30\n",
            "110/110 [==============================] - 1s 7ms/step - loss: 0.0132\n",
            "Epoch 21/30\n",
            "110/110 [==============================] - 1s 7ms/step - loss: 0.0131\n",
            "Epoch 22/30\n",
            "110/110 [==============================] - 1s 7ms/step - loss: 0.0130\n",
            "Epoch 23/30\n",
            "110/110 [==============================] - 1s 7ms/step - loss: 0.0127\n",
            "Epoch 24/30\n",
            "110/110 [==============================] - 1s 7ms/step - loss: 0.0126\n",
            "Epoch 25/30\n",
            "110/110 [==============================] - 1s 7ms/step - loss: 0.0125\n",
            "Epoch 26/30\n",
            "110/110 [==============================] - 1s 7ms/step - loss: 0.0124\n",
            "Epoch 27/30\n",
            "110/110 [==============================] - 1s 7ms/step - loss: 0.0123\n",
            "Epoch 28/30\n",
            "110/110 [==============================] - 1s 9ms/step - loss: 0.0122\n",
            "Epoch 29/30\n",
            "110/110 [==============================] - 1s 9ms/step - loss: 0.0120\n",
            "Epoch 30/30\n",
            "110/110 [==============================] - 1s 9ms/step - loss: 0.0120\n"
          ]
        },
        {
          "output_type": "execute_result",
          "data": {
            "text/plain": [
              "<keras.callbacks.History at 0x7fbb33e25a30>"
            ]
          },
          "metadata": {},
          "execution_count": 7
        }
      ]
    },
    {
      "cell_type": "code",
      "source": [
        "fig, axs = plt.subplots(1, 3, figsize=(10, 10))\n",
        "\n",
        "inpImg = X_test[np.random.randint(1, 100)].reshape(1, 28, 28, 1)\n",
        "\n",
        "# Input of the autoencoder.\n",
        "fig.axes[0].matshow(inpImg[0, :, :, 0])\n",
        "fig.axes[0].set_title(\"Input autoencoder\")\n",
        "fig.axes[0].axis(\"off\")\n",
        "\n",
        "# We call the autoencoder.\n",
        "outImg = autoencoder.predict(inpImg)\n",
        "\n",
        "# Get the latent vector.\n",
        "zVec = encoder.predict(inpImg)\n",
        "\n",
        "fig.axes[1].matshow(zVec)\n",
        "fig.axes[1].set_title(\"Latent vector\")\n",
        "fig.axes[1].axis(\"off\")\n",
        "\n",
        "#Output of the autoencoder.\n",
        "fig.axes[2].matshow(outImg[0, :, :, 0])\n",
        "fig.axes[2].set_title(\"Output autoencoder\")\n",
        "fig.axes[2].axis(\"off\")\n",
        "\n",
        "plt.show()"
      ],
      "metadata": {
        "id": "SbngyZbvGFAG",
        "colab": {
          "base_uri": "https://localhost:8080/",
          "height": 263
        },
        "outputId": "04c5a012-b031-43b2-9412-632a4e73ffeb"
      },
      "execution_count": null,
      "outputs": [
        {
          "output_type": "stream",
          "name": "stdout",
          "text": [
            "1/1 [==============================] - 0s 208ms/step\n",
            "1/1 [==============================] - 0s 75ms/step\n"
          ]
        },
        {
          "output_type": "display_data",
          "data": {
            "text/plain": [
              "<Figure size 720x720 with 3 Axes>"
            ],
            "image/png": "[encoded data removed]"
          },
          "metadata": {
            "needs_background": "light"
          }
        }
      ]
    }
  ],
  "metadata": {
    "accelerator": "GPU",
    "colab": {
      "provenance": []
    },
    "kernelspec": {
      "display_name": "Python 3",
      "name": "python3"
    },
    "language_info": {
      "name": "python"
    }
  },
  "nbformat": 4,
  "nbformat_minor": 0
}